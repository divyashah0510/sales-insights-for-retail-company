{
 "cells": [
  {
   "cell_type": "code",
   "execution_count": 1,
   "metadata": {},
   "outputs": [
    {
     "name": "stdout",
     "output_type": "stream",
     "text": [
      "         Date ProductID                       Product Name CustomerID  \\\n",
      "0  2020-07-01    N15085  Nylon Insert Lock Nut (Nyloc Nut)     C96639   \n",
      "1  2023-12-23    P28509                              Rivet     C62320   \n",
      "2  2021-09-21    S83599                      Drywall Screw     C49272   \n",
      "3  2023-10-01    B75388                             U-Bolt     C43336   \n",
      "\n",
      "  TransactionID               Grade                              Size  \\\n",
      "0        T45287             IS 6623                               M12   \n",
      "1        T73990             IS 3757    M8 x 30 with M8 Nut and Washer   \n",
      "2        T78331   IS 1367 Grade 8.8  M12 x 40 with M12 Nut and Washer   \n",
      "3        T17769  IS 1367 Grade 10.9                           M8 x 20   \n",
      "\n",
      "   Sales Amount  Quantity Sold    Cost Sales Channel Discounts Applied  \\\n",
      "0       4398.75             23  259.35      In-Store   0% (percentage)   \n",
      "1       2648.46             65  162.99        Online   3% (percentage)   \n",
      "2       1676.56             47  640.83      In-Store  18% (percentage)   \n",
      "3       2939.90             30  118.72      In-Store   9% (percentage)   \n",
      "\n",
      "  Order Status Return Status Region(Statewise)  \n",
      "0    Completed  Not Returned     Uttar Pradesh  \n",
      "1      Pending      Returned           Mizoram  \n",
      "2    Cancelled      Returned  Himachal Pradesh  \n",
      "3     Refunded      Refunded       West Bengal  \n"
     ]
    }
   ],
   "source": [
    "import pandas as pd\n",
    "\n",
    "data = pd.read_csv(\"../data/sales_dataset_1M.csv\")\n",
    "print(data.head(4))"
   ]
  },
  {
   "cell_type": "code",
   "execution_count": null,
   "metadata": {},
   "outputs": [],
   "source": [
    "data.info()"
   ]
  },
  {
   "cell_type": "code",
   "execution_count": null,
   "metadata": {},
   "outputs": [],
   "source": [
    "data.describe()"
   ]
  },
  {
   "cell_type": "code",
   "execution_count": 2,
   "metadata": {},
   "outputs": [
    {
     "data": {
      "text/plain": [
       "Date                  object\n",
       "ProductID             object\n",
       "Product Name          object\n",
       "CustomerID            object\n",
       "TransactionID         object\n",
       "Grade                 object\n",
       "Size                  object\n",
       "Sales Amount         float64\n",
       "Quantity Sold          int64\n",
       "Cost                 float64\n",
       "Sales Channel         object\n",
       "Discounts Applied     object\n",
       "Order Status          object\n",
       "Return Status         object\n",
       "Region(Statewise)     object\n",
       "dtype: object"
      ]
     },
     "execution_count": 2,
     "metadata": {},
     "output_type": "execute_result"
    }
   ],
   "source": [
    "data.dtypes"
   ]
  },
  {
   "cell_type": "code",
   "execution_count": 4,
   "metadata": {},
   "outputs": [],
   "source": [
    "# To convert the date column to date in format as dd-mm-yyyy\n",
    "data['Date'] = pd.to_datetime(data['Date'],format='%d-%m-%Y')\n",
    "# data.dtypes"
   ]
  },
  {
   "cell_type": "code",
   "execution_count": 5,
   "metadata": {},
   "outputs": [],
   "source": [
    "# To convert the ProductID column to string\n",
    "data['ProductID'] = data['ProductID'].astype(str)"
   ]
  },
  {
   "cell_type": "code",
   "execution_count": 6,
   "metadata": {},
   "outputs": [
    {
     "data": {
      "text/plain": [
       "0         0.00\n",
       "1         0.03\n",
       "2         0.18\n",
       "3         0.09\n",
       "4         0.01\n",
       "          ... \n",
       "999995    0.06\n",
       "999996    0.08\n",
       "999997    0.09\n",
       "999998    0.19\n",
       "999999    0.18\n",
       "Name: Discounts Applied, Length: 1000000, dtype: float64"
      ]
     },
     "execution_count": 6,
     "metadata": {},
     "output_type": "execute_result"
    }
   ],
   "source": [
    "# The Discounts Applied column has values as 15% (percentage). So we need to remove the % sign and (percentage) text and convert it to decimal values.\n",
    "data['Discounts Applied'] = data['Discounts Applied'].str.replace('%', '').str.replace('(percentage)', '').astype(float) / 100\n",
    "data['Discounts Applied']"
   ]
  },
  {
   "cell_type": "code",
   "execution_count": 7,
   "metadata": {},
   "outputs": [],
   "source": [
    "# Finally we will save the cleaned data to a new csv file\n",
    "data.to_csv(\"../data/sales_dataset_cleaned_1M.csv\", index=False)"
   ]
  },
  {
   "cell_type": "code",
   "execution_count": null,
   "metadata": {},
   "outputs": [],
   "source": [
    "data['Product Name'].unique()"
   ]
  },
  {
   "cell_type": "markdown",
   "metadata": {},
   "source": [
    "# Cleaning India States DataSet"
   ]
  },
  {
   "cell_type": "code",
   "execution_count": 1,
   "metadata": {},
   "outputs": [
    {
     "data": {
      "text/html": [
       "<div>\n",
       "<style scoped>\n",
       "    .dataframe tbody tr th:only-of-type {\n",
       "        vertical-align: middle;\n",
       "    }\n",
       "\n",
       "    .dataframe tbody tr th {\n",
       "        vertical-align: top;\n",
       "    }\n",
       "\n",
       "    .dataframe thead th {\n",
       "        text-align: right;\n",
       "    }\n",
       "</style>\n",
       "<table border=\"1\" class=\"dataframe\">\n",
       "  <thead>\n",
       "    <tr style=\"text-align: right;\">\n",
       "      <th></th>\n",
       "      <th>State/UT</th>\n",
       "      <th>Latitude</th>\n",
       "      <th>Longitude</th>\n",
       "    </tr>\n",
       "  </thead>\n",
       "  <tbody>\n",
       "    <tr>\n",
       "      <th>0</th>\n",
       "      <td>Andaman and Nicobar Islands</td>\n",
       "      <td>11.7401</td>\n",
       "      <td>92.6586</td>\n",
       "    </tr>\n",
       "    <tr>\n",
       "      <th>1</th>\n",
       "      <td>Andhra Pradesh</td>\n",
       "      <td>15.9129</td>\n",
       "      <td>79.7400</td>\n",
       "    </tr>\n",
       "    <tr>\n",
       "      <th>2</th>\n",
       "      <td>Arunachal Pradesh</td>\n",
       "      <td>28.2180</td>\n",
       "      <td>94.7278</td>\n",
       "    </tr>\n",
       "    <tr>\n",
       "      <th>3</th>\n",
       "      <td>Assam</td>\n",
       "      <td>31.1048</td>\n",
       "      <td>77.1734</td>\n",
       "    </tr>\n",
       "  </tbody>\n",
       "</table>\n",
       "</div>"
      ],
      "text/plain": [
       "                      State/UT  Latitude  Longitude\n",
       "0  Andaman and Nicobar Islands   11.7401    92.6586\n",
       "1               Andhra Pradesh   15.9129    79.7400\n",
       "2            Arunachal Pradesh   28.2180    94.7278\n",
       "3                        Assam   31.1048    77.1734"
      ]
     },
     "execution_count": 1,
     "metadata": {},
     "output_type": "execute_result"
    }
   ],
   "source": [
    "import pandas as pd\n",
    "data = pd.read_csv(\"../info/India States-UTs.csv\")\n",
    "data.head(4)"
   ]
  },
  {
   "cell_type": "code",
   "execution_count": 2,
   "metadata": {},
   "outputs": [
    {
     "name": "stdout",
     "output_type": "stream",
     "text": [
      "<class 'pandas.core.frame.DataFrame'>\n",
      "RangeIndex: 36 entries, 0 to 35\n",
      "Data columns (total 3 columns):\n",
      " #   Column     Non-Null Count  Dtype  \n",
      "---  ------     --------------  -----  \n",
      " 0   State/UT   36 non-null     object \n",
      " 1   Latitude   36 non-null     float64\n",
      " 2   Longitude  36 non-null     float64\n",
      "dtypes: float64(2), object(1)\n",
      "memory usage: 996.0+ bytes\n"
     ]
    }
   ],
   "source": [
    "data.info()"
   ]
  },
  {
   "cell_type": "code",
   "execution_count": null,
   "metadata": {},
   "outputs": [],
   "source": [
    "# To convert the State column to string\n",
    "data['State/UT'] = data['State/UT'].astype(str)\n",
    "data['State/UT']"
   ]
  },
  {
   "cell_type": "code",
   "execution_count": 19,
   "metadata": {},
   "outputs": [
    {
     "data": {
      "text/plain": [
       "State/UT      object\n",
       "Latitude     float64\n",
       "Longitude    float64\n",
       "dtype: object"
      ]
     },
     "execution_count": 19,
     "metadata": {},
     "output_type": "execute_result"
    }
   ],
   "source": [
    "data.dtypes"
   ]
  },
  {
   "cell_type": "code",
   "execution_count": 4,
   "metadata": {},
   "outputs": [
    {
     "data": {
      "text/plain": [
       "State/UT     0\n",
       "Latitude     0\n",
       "Longitude    0\n",
       "dtype: int64"
      ]
     },
     "execution_count": 4,
     "metadata": {},
     "output_type": "execute_result"
    }
   ],
   "source": [
    "data.isnull().sum()"
   ]
  }
 ],
 "metadata": {
  "kernelspec": {
   "display_name": ".venv",
   "language": "python",
   "name": "python3"
  },
  "language_info": {
   "codemirror_mode": {
    "name": "ipython",
    "version": 3
   },
   "file_extension": ".py",
   "mimetype": "text/x-python",
   "name": "python",
   "nbconvert_exporter": "python",
   "pygments_lexer": "ipython3",
   "version": "3.12.5"
  }
 },
 "nbformat": 4,
 "nbformat_minor": 2
}
