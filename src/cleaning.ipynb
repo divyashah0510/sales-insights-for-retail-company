{
 "cells": [
  {
   "cell_type": "code",
   "execution_count": 47,
   "metadata": {},
   "outputs": [
    {
     "name": "stdout",
     "output_type": "stream",
     "text": [
      "         Date ProductID              Product Name CustomerID TransactionID  \\\n",
      "0  2020-03-08    B50986          Zinc-Plated Bolt     C98335        T87978   \n",
      "1  2020-12-16    S35661           Oval Head Screw     C35646        T50227   \n",
      "2  2021-07-18    B68010  Washer and Bolt Assembly     C20517        T52923   \n",
      "3  2020-06-07    W43498    Stainless Steel Washer     C71616        T49584   \n",
      "\n",
      "     Grade                              Size  Sales Amount  Quantity Sold  \\\n",
      "0  IS 6639                          M12 x 40       2269.23             36   \n",
      "1  IS 1366                           M5 x 16       4560.09             76   \n",
      "2  IS 3757  M12 x 40 with M12 Nut and Washer        418.77             56   \n",
      "3  IS 6735                       M6 x 12 x 1       4125.07             35   \n",
      "\n",
      "     Cost Sales Channel Discounts Applied Order Status Return Status  \\\n",
      "0  574.83      In-Store  14% (percentage)    Completed  Not Returned   \n",
      "1  157.08   Email Order  14% (percentage)    Completed  Not Returned   \n",
      "2  697.86      In-Store  11% (percentage)      Pending  Not Returned   \n",
      "3  589.22   Phone Order  18% (percentage)    Completed  Not Returned   \n",
      "\n",
      "  Region(Statewise)  \n",
      "0           Manipur  \n",
      "1           Haryana  \n",
      "2           Haryana  \n",
      "3             Bihar  \n"
     ]
    }
   ],
   "source": [
    "import pandas as pd\n",
    "\n",
    "data = pd.read_csv(\"../data/sales_dataset_500k_part_2.csv\")\n",
    "print(data.head(4))"
   ]
  },
  {
   "cell_type": "code",
   "execution_count": 48,
   "metadata": {},
   "outputs": [
    {
     "name": "stdout",
     "output_type": "stream",
     "text": [
      "<class 'pandas.core.frame.DataFrame'>\n",
      "RangeIndex: 500000 entries, 0 to 499999\n",
      "Data columns (total 15 columns):\n",
      " #   Column             Non-Null Count   Dtype  \n",
      "---  ------             --------------   -----  \n",
      " 0   Date               500000 non-null  object \n",
      " 1   ProductID          500000 non-null  object \n",
      " 2   Product Name       500000 non-null  object \n",
      " 3   CustomerID         500000 non-null  object \n",
      " 4   TransactionID      500000 non-null  object \n",
      " 5   Grade              500000 non-null  object \n",
      " 6   Size               500000 non-null  object \n",
      " 7   Sales Amount       500000 non-null  float64\n",
      " 8   Quantity Sold      500000 non-null  int64  \n",
      " 9   Cost               500000 non-null  float64\n",
      " 10  Sales Channel      500000 non-null  object \n",
      " 11  Discounts Applied  500000 non-null  object \n",
      " 12  Order Status       500000 non-null  object \n",
      " 13  Return Status      500000 non-null  object \n",
      " 14  Region(Statewise)  500000 non-null  object \n",
      "dtypes: float64(2), int64(1), object(12)\n",
      "memory usage: 57.2+ MB\n"
     ]
    }
   ],
   "source": [
    "data.info()"
   ]
  },
  {
   "cell_type": "code",
   "execution_count": 49,
   "metadata": {},
   "outputs": [
    {
     "data": {
      "text/html": [
       "<div>\n",
       "<style scoped>\n",
       "    .dataframe tbody tr th:only-of-type {\n",
       "        vertical-align: middle;\n",
       "    }\n",
       "\n",
       "    .dataframe tbody tr th {\n",
       "        vertical-align: top;\n",
       "    }\n",
       "\n",
       "    .dataframe thead th {\n",
       "        text-align: right;\n",
       "    }\n",
       "</style>\n",
       "<table border=\"1\" class=\"dataframe\">\n",
       "  <thead>\n",
       "    <tr style=\"text-align: right;\">\n",
       "      <th></th>\n",
       "      <th>Sales Amount</th>\n",
       "      <th>Quantity Sold</th>\n",
       "      <th>Cost</th>\n",
       "    </tr>\n",
       "  </thead>\n",
       "  <tbody>\n",
       "    <tr>\n",
       "      <th>count</th>\n",
       "      <td>500000.000000</td>\n",
       "      <td>500000.000000</td>\n",
       "      <td>500000.000000</td>\n",
       "    </tr>\n",
       "    <tr>\n",
       "      <th>mean</th>\n",
       "      <td>2547.272549</td>\n",
       "      <td>50.483034</td>\n",
       "      <td>402.361447</td>\n",
       "    </tr>\n",
       "    <tr>\n",
       "      <th>std</th>\n",
       "      <td>1414.754610</td>\n",
       "      <td>28.898538</td>\n",
       "      <td>229.513393</td>\n",
       "    </tr>\n",
       "    <tr>\n",
       "      <th>min</th>\n",
       "      <td>100.000000</td>\n",
       "      <td>1.000000</td>\n",
       "      <td>5.000000</td>\n",
       "    </tr>\n",
       "    <tr>\n",
       "      <th>25%</th>\n",
       "      <td>1318.980000</td>\n",
       "      <td>25.000000</td>\n",
       "      <td>203.670000</td>\n",
       "    </tr>\n",
       "    <tr>\n",
       "      <th>50%</th>\n",
       "      <td>2547.510000</td>\n",
       "      <td>51.000000</td>\n",
       "      <td>402.220000</td>\n",
       "    </tr>\n",
       "    <tr>\n",
       "      <th>75%</th>\n",
       "      <td>3774.962500</td>\n",
       "      <td>76.000000</td>\n",
       "      <td>600.882500</td>\n",
       "    </tr>\n",
       "    <tr>\n",
       "      <th>max</th>\n",
       "      <td>4999.980000</td>\n",
       "      <td>100.000000</td>\n",
       "      <td>800.000000</td>\n",
       "    </tr>\n",
       "  </tbody>\n",
       "</table>\n",
       "</div>"
      ],
      "text/plain": [
       "        Sales Amount  Quantity Sold           Cost\n",
       "count  500000.000000  500000.000000  500000.000000\n",
       "mean     2547.272549      50.483034     402.361447\n",
       "std      1414.754610      28.898538     229.513393\n",
       "min       100.000000       1.000000       5.000000\n",
       "25%      1318.980000      25.000000     203.670000\n",
       "50%      2547.510000      51.000000     402.220000\n",
       "75%      3774.962500      76.000000     600.882500\n",
       "max      4999.980000     100.000000     800.000000"
      ]
     },
     "execution_count": 49,
     "metadata": {},
     "output_type": "execute_result"
    }
   ],
   "source": [
    "data.describe()"
   ]
  },
  {
   "cell_type": "code",
   "execution_count": 50,
   "metadata": {},
   "outputs": [
    {
     "data": {
      "text/plain": [
       "Date                  object\n",
       "ProductID             object\n",
       "Product Name          object\n",
       "CustomerID            object\n",
       "TransactionID         object\n",
       "Grade                 object\n",
       "Size                  object\n",
       "Sales Amount         float64\n",
       "Quantity Sold          int64\n",
       "Cost                 float64\n",
       "Sales Channel         object\n",
       "Discounts Applied     object\n",
       "Order Status          object\n",
       "Return Status         object\n",
       "Region(Statewise)     object\n",
       "dtype: object"
      ]
     },
     "execution_count": 50,
     "metadata": {},
     "output_type": "execute_result"
    }
   ],
   "source": [
    "data.dtypes"
   ]
  },
  {
   "cell_type": "code",
   "execution_count": 51,
   "metadata": {},
   "outputs": [],
   "source": [
    "# To convert the date column to date in format as dd-mm-yyyy\n",
    "data['Date'] = pd.to_datetime(data['Date'], format='ISO8601')\n",
    "# data.dtypes"
   ]
  },
  {
   "cell_type": "code",
   "execution_count": 52,
   "metadata": {},
   "outputs": [],
   "source": [
    "# To convert the ProductID column to string\n",
    "data['ProductID'] = data['ProductID'].astype(str)"
   ]
  },
  {
   "cell_type": "code",
   "execution_count": 53,
   "metadata": {},
   "outputs": [
    {
     "data": {
      "text/plain": [
       "0         0.14\n",
       "1         0.14\n",
       "2         0.11\n",
       "3         0.18\n",
       "4         0.13\n",
       "          ... \n",
       "499995    0.02\n",
       "499996    0.18\n",
       "499997    0.09\n",
       "499998    0.12\n",
       "499999    0.07\n",
       "Name: Discounts Applied, Length: 500000, dtype: float64"
      ]
     },
     "execution_count": 53,
     "metadata": {},
     "output_type": "execute_result"
    }
   ],
   "source": [
    "# The Discounts Applied column has values as 15% (percentage). So we need to remove the % sign and (percentage) text and convert it to decimal values.\n",
    "data['Discounts Applied'] = data['Discounts Applied'].str.replace('%', '').str.replace('(percentage)', '').astype(float) / 100\n",
    "data['Discounts Applied']"
   ]
  },
  {
   "cell_type": "code",
   "execution_count": 54,
   "metadata": {},
   "outputs": [],
   "source": [
    "# Finally we will save the cleaned data to a new csv file\n",
    "data.to_csv(\"../data/sales_dataset_cleaned_500k.csv\", index=False)"
   ]
  },
  {
   "cell_type": "code",
   "execution_count": 55,
   "metadata": {},
   "outputs": [
    {
     "data": {
      "text/plain": [
       "array(['Zinc-Plated Bolt', 'Oval Head Screw', 'Washer and Bolt Assembly',\n",
       "       'Stainless Steel Washer', 'T-Nut', 'Anchor Bolt Kit', 'Deck Screw',\n",
       "       'Nylon Washer', 'Thin Nut', 'Set Screw', 'Stainless Steel Bolt',\n",
       "       'Hex Head Screw', 'Round Head Screw', 'Drive Screw',\n",
       "       'Concrete Screw', 'Split Lock Washer', 'Carriage Bolt',\n",
       "       'Lag Screw', 'Belleville Washer', 'Eye Bolt', 'Toggle Bolt',\n",
       "       'Neoprene Washer', 'Square Nut', 'U-Bolt', 'Insert Nut',\n",
       "       'Wing Nut', 'Rivet', 'Slotted Nut', 'Flange Nut', 'Lock Washer',\n",
       "       'Plastic Anchor', 'Bolt and Nut Assembly', 'Masonry Anchor',\n",
       "       'Stainless Steel Nut', 'Eye Screw', 'Pan Head Screw',\n",
       "       'Stainless Steel Screw', 'Flat Washer', 'Expansion Bolt',\n",
       "       'Self-Drilling Screw', 'Lag Bolt', 'Machine Screw',\n",
       "       'Flat Head Screw', 'Prevailing Torque Lock Nut', 'Curved Washer',\n",
       "       'Zinc-Plated Washer', 'Thumb Screw', 'Wood Screw',\n",
       "       'External Tooth Washer', 'Coupling Nut', 'High-Tensile Bolt',\n",
       "       'Fender Washer', 'Nylon Insert Lock Nut (Nyloc Nut)',\n",
       "       'Shoulder Bolt', 'Spring Washer', 'T-Head Bolt', 'Hex Head Bolt',\n",
       "       'Dowel Screw', 'Countersunk Bolt', 'Countersunk Washer',\n",
       "       'Countersunk Screw', 'Flange Bolt', 'Dome Nut',\n",
       "       'Sheet Metal Screw', 'Castle Nut', 'Square Washer', 'K-Lock Nut',\n",
       "       'Anchor Bolt', 'J-Bolt', 'Screw and Washer Assembly', 'Jam Nut',\n",
       "       'U-Bolt with Plate Assembly', 'Drywall Screw', 'Cap Nut',\n",
       "       'Copper Washer', 'Hex Nut', 'Internal Tooth Washer',\n",
       "       'Socket Head Cap Screw', 'Elevator Bolt', 'Square Head Bolt',\n",
       "       'Machine Bolt', 'Self-Tapping Screw', 'Sealing Washer'],\n",
       "      dtype=object)"
      ]
     },
     "execution_count": 55,
     "metadata": {},
     "output_type": "execute_result"
    }
   ],
   "source": [
    "data['Product Name'].unique()"
   ]
  },
  {
   "cell_type": "markdown",
   "metadata": {},
   "source": [
    "# Cleaning India States DataSet"
   ]
  },
  {
   "cell_type": "code",
   "execution_count": 56,
   "metadata": {},
   "outputs": [
    {
     "data": {
      "text/html": [
       "<div>\n",
       "<style scoped>\n",
       "    .dataframe tbody tr th:only-of-type {\n",
       "        vertical-align: middle;\n",
       "    }\n",
       "\n",
       "    .dataframe tbody tr th {\n",
       "        vertical-align: top;\n",
       "    }\n",
       "\n",
       "    .dataframe thead th {\n",
       "        text-align: right;\n",
       "    }\n",
       "</style>\n",
       "<table border=\"1\" class=\"dataframe\">\n",
       "  <thead>\n",
       "    <tr style=\"text-align: right;\">\n",
       "      <th></th>\n",
       "      <th>State/UT</th>\n",
       "      <th>Latitude</th>\n",
       "      <th>Longitude</th>\n",
       "    </tr>\n",
       "  </thead>\n",
       "  <tbody>\n",
       "    <tr>\n",
       "      <th>0</th>\n",
       "      <td>Andaman and Nicobar Islands</td>\n",
       "      <td>11.7401</td>\n",
       "      <td>92.6586</td>\n",
       "    </tr>\n",
       "    <tr>\n",
       "      <th>1</th>\n",
       "      <td>Andhra Pradesh</td>\n",
       "      <td>15.9129</td>\n",
       "      <td>79.7400</td>\n",
       "    </tr>\n",
       "    <tr>\n",
       "      <th>2</th>\n",
       "      <td>Arunachal Pradesh</td>\n",
       "      <td>28.2180</td>\n",
       "      <td>94.7278</td>\n",
       "    </tr>\n",
       "    <tr>\n",
       "      <th>3</th>\n",
       "      <td>Assam</td>\n",
       "      <td>31.1048</td>\n",
       "      <td>77.1734</td>\n",
       "    </tr>\n",
       "  </tbody>\n",
       "</table>\n",
       "</div>"
      ],
      "text/plain": [
       "                      State/UT  Latitude  Longitude\n",
       "0  Andaman and Nicobar Islands   11.7401    92.6586\n",
       "1               Andhra Pradesh   15.9129    79.7400\n",
       "2            Arunachal Pradesh   28.2180    94.7278\n",
       "3                        Assam   31.1048    77.1734"
      ]
     },
     "execution_count": 56,
     "metadata": {},
     "output_type": "execute_result"
    }
   ],
   "source": [
    "import pandas as pd\n",
    "data = pd.read_csv(\"../info/India States-UTs.csv\")\n",
    "data.head(4)"
   ]
  },
  {
   "cell_type": "code",
   "execution_count": 57,
   "metadata": {},
   "outputs": [
    {
     "name": "stdout",
     "output_type": "stream",
     "text": [
      "<class 'pandas.core.frame.DataFrame'>\n",
      "RangeIndex: 36 entries, 0 to 35\n",
      "Data columns (total 3 columns):\n",
      " #   Column     Non-Null Count  Dtype  \n",
      "---  ------     --------------  -----  \n",
      " 0   State/UT   36 non-null     object \n",
      " 1   Latitude   36 non-null     float64\n",
      " 2   Longitude  36 non-null     float64\n",
      "dtypes: float64(2), object(1)\n",
      "memory usage: 996.0+ bytes\n"
     ]
    }
   ],
   "source": [
    "data.info()"
   ]
  },
  {
   "cell_type": "code",
   "execution_count": 58,
   "metadata": {},
   "outputs": [
    {
     "data": {
      "text/plain": [
       "0                  Andaman and Nicobar Islands\n",
       "1                               Andhra Pradesh\n",
       "2                            Arunachal Pradesh\n",
       "3                                        Assam\n",
       "4                                        Bihar\n",
       "5                                 Chhattisgarh\n",
       "6     Dadra and Nagar Haveli and Daman and Diu\n",
       "7                                        Delhi\n",
       "8                                          Goa\n",
       "9                                      Gujarat\n",
       "10                                     Haryana\n",
       "11                            Himachal Pradesh\n",
       "12                                   Jharkhand\n",
       "13                                   Karnataka\n",
       "14                                      Kerala\n",
       "15                                 Lakshadweep\n",
       "16                              Madhya Pradesh\n",
       "17                                 Maharashtra\n",
       "18                                     Manipur\n",
       "19                                   Meghalaya\n",
       "20                                     Mizoram\n",
       "21                                    Nagaland\n",
       "22                                      Odisha\n",
       "23                                  Puducherry\n",
       "24                                      Punjab\n",
       "25                                   Rajasthan\n",
       "26                                      Sikkim\n",
       "27                                  Tamil Nadu\n",
       "28                                   Telangana\n",
       "29                                     Tripura\n",
       "30                                  Chandigarh\n",
       "31                           Jammu and Kashmir\n",
       "32                                      Ladakh\n",
       "33                               Uttar Pradesh\n",
       "34                                 Uttarakhand\n",
       "35                                 West Bengal\n",
       "Name: State/UT, dtype: object"
      ]
     },
     "execution_count": 58,
     "metadata": {},
     "output_type": "execute_result"
    }
   ],
   "source": [
    "# To convert the State column to string\n",
    "data['State/UT'] = data['State/UT'].astype(str)\n",
    "data['State/UT']"
   ]
  },
  {
   "cell_type": "code",
   "execution_count": 59,
   "metadata": {},
   "outputs": [
    {
     "data": {
      "text/plain": [
       "State/UT      object\n",
       "Latitude     float64\n",
       "Longitude    float64\n",
       "dtype: object"
      ]
     },
     "execution_count": 59,
     "metadata": {},
     "output_type": "execute_result"
    }
   ],
   "source": [
    "data.dtypes"
   ]
  },
  {
   "cell_type": "code",
   "execution_count": 60,
   "metadata": {},
   "outputs": [
    {
     "data": {
      "text/plain": [
       "State/UT     0\n",
       "Latitude     0\n",
       "Longitude    0\n",
       "dtype: int64"
      ]
     },
     "execution_count": 60,
     "metadata": {},
     "output_type": "execute_result"
    }
   ],
   "source": [
    "data.isnull().sum()"
   ]
  }
 ],
 "metadata": {
  "kernelspec": {
   "display_name": ".venv",
   "language": "python",
   "name": "python3"
  },
  "language_info": {
   "codemirror_mode": {
    "name": "ipython",
    "version": 3
   },
   "file_extension": ".py",
   "mimetype": "text/x-python",
   "name": "python",
   "nbconvert_exporter": "python",
   "pygments_lexer": "ipython3",
   "version": "3.12.5"
  }
 },
 "nbformat": 4,
 "nbformat_minor": 2
}
